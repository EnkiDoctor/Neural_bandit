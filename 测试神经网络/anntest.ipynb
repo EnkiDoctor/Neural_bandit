{
 "cells": [
  {
   "cell_type": "code",
   "execution_count": 2,
   "metadata": {},
   "outputs": [
    {
     "name": "stdout",
     "output_type": "stream",
     "text": [
      "cuda:0\n"
     ]
    }
   ],
   "source": [
    "import os\n",
    "\n",
    "os.environ[\"KMP_DUPLICATE_LIB_OK\"]=\"TRUE\"\n",
    "import numpy as np\n",
    "import torch\n",
    "import random\n",
    "import math \n",
    "import copy\n",
    "import random\n",
    "import argparse\n",
    "import torch.optim as optim\n",
    "import torch.nn as nn\n",
    "import numpy as np\n",
    "from scipy.optimize import minimize\n",
    "device = torch.device(\"cuda:0\" if torch.cuda.is_available() else \"cpu\")\n",
    "print(device)\n",
    "import torch\n",
    "import torch.nn as nn\n",
    "import torch.nn.functional as F\n",
    "import torch.nn.init as init\n",
    "import numpy as np"
   ]
  },
  {
   "cell_type": "code",
   "execution_count": 66,
   "metadata": {},
   "outputs": [],
   "source": [
    "import torch\n",
    "import torch.nn as nn\n",
    "\n",
    "# 定义一个简单的神经网络模型\n",
    "class SimpleNN(nn.Module):\n",
    "    def __init__(self, input_size, hidden_size, output_size):\n",
    "        super(SimpleNN, self).__init__()\n",
    "        self.fc1 = nn.Linear(input_size, hidden_size)\n",
    "        self.relu = nn.ReLU()\n",
    "        self.fc2 = nn.Linear(hidden_size, output_size)\n",
    "        self.relu2 = nn.ReLU()\n",
    "\n",
    "        # 使用Xavier初始化来初始化权重\n",
    "        nn.init.xavier_normal_(self.fc1.weight)\n",
    "        nn.init.xavier_normal_(self.fc2.weight)\n",
    "\n",
    "        # 初始化偏置为零\n",
    "        nn.init.constant_(self.fc1.bias, 0)\n",
    "        nn.init.constant_(self.fc2.bias, 0)\n",
    "\n",
    "    def forward(self, x):\n",
    "        out = self.fc1(x)\n",
    "        out = self.relu(out)\n",
    "        out = self.fc2(out)\n",
    "        out = self.relu2(out)\n",
    "        return out\n",
    "        \n",
    "# 定义输入、隐藏层和输出的维度\n",
    "input_size = 10\n",
    "hidden_size = 20\n",
    "output_size = 10\n",
    "\n",
    "# 创建一个SimpleNN模型\n",
    "\n"
   ]
  },
  {
   "cell_type": "code",
   "execution_count": 39,
   "metadata": {},
   "outputs": [],
   "source": [
    "class customloss(nn.Module):\n",
    "    def __init__(self, theta):\n",
    "        super(customloss, self).__init__()\n",
    "        self.theta = theta\n",
    "    def forward(self, output_list, y_list):\n",
    "        theta = torch.tensor(self.theta, dtype= torch.float32).to(device) \n",
    "        loss = 0\n",
    "        index = 0\n",
    "        for output in output_list:  \n",
    "            y = torch.tensor(y_list[index]).to(device) \n",
    "            v = torch.mm(output, theta.view(-1,1)) \n",
    "            prob = torch.exp(v) / (torch.sum(torch.exp(v)))  \n",
    "            loss += torch.sum(-y * torch.log(prob) - (1-y) * torch.log(1-prob)) \n",
    "            index += 1  \n",
    "        return loss / (len(y_list)/100)"
   ]
  },
  {
   "cell_type": "code",
   "execution_count": 26,
   "metadata": {},
   "outputs": [],
   "source": [
    "CONTEXT_ARRAY = np.load('features1.npy')\n",
    "theta = np.load('theta.npy')\n",
    "PURCHASE_LIST = np.load('purchase.npy')"
   ]
  },
  {
   "cell_type": "code",
   "execution_count": 30,
   "metadata": {},
   "outputs": [
    {
     "data": {
      "text/plain": [
       "'NVIDIA GeForce RTX 3090'"
      ]
     },
     "execution_count": 30,
     "metadata": {},
     "output_type": "execute_result"
    }
   ],
   "source": [
    "torch.cuda.get_device_name()"
   ]
  },
  {
   "cell_type": "code",
   "execution_count": 54,
   "metadata": {},
   "outputs": [
    {
     "name": "stdout",
     "output_type": "stream",
     "text": [
      "SimpleNN(\n",
      "  (fc1): Linear(in_features=10, out_features=20, bias=True)\n",
      "  (relu): ReLU()\n",
      "  (fc2): Linear(in_features=20, out_features=10, bias=True)\n",
      ")\n"
     ]
    }
   ],
   "source": [
    "model = SimpleNN(input_size, hidden_size, output_size).to(device)\n",
    "print(model)"
   ]
  },
  {
   "cell_type": "code",
   "execution_count": 89,
   "metadata": {},
   "outputs": [
    {
     "name": "stdout",
     "output_type": "stream",
     "text": [
      "epoch 0, loss 2419.822021484375\n",
      "epoch 1, loss 2416.7216796875\n",
      "epoch 2, loss 2413.093505859375\n",
      "epoch 3, loss 2412.091796875\n",
      "epoch 4, loss 2411.818359375\n",
      "epoch 0, loss 2411.72900390625\n",
      "epoch 1, loss 2411.63037109375\n",
      "epoch 2, loss 2411.55126953125\n",
      "epoch 3, loss 2411.481689453125\n",
      "epoch 4, loss 2411.43017578125\n",
      "epoch 0, loss 2411.404541015625\n",
      "epoch 1, loss 2411.38916015625\n",
      "epoch 2, loss 2411.37939453125\n",
      "epoch 3, loss 2411.372802734375\n",
      "epoch 4, loss 2411.369140625\n",
      "epoch 0, loss 2411.3623046875\n",
      "epoch 1, loss 2411.360107421875\n",
      "epoch 2, loss 2411.35791015625\n",
      "epoch 3, loss 2411.3564453125\n",
      "epoch 4, loss 2411.354736328125\n",
      "epoch 0, loss 2411.3505859375\n",
      "epoch 1, loss 2411.349365234375\n",
      "epoch 2, loss 2411.34912109375\n",
      "epoch 3, loss 2411.34814453125\n",
      "epoch 4, loss 2411.347412109375\n",
      "epoch 0, loss 2411.34521484375\n",
      "epoch 1, loss 2411.344482421875\n",
      "epoch 2, loss 2411.34423828125\n",
      "epoch 3, loss 2411.343994140625\n",
      "epoch 4, loss 2411.34326171875\n",
      "epoch 0, loss 2411.3408203125\n",
      "epoch 1, loss 2411.340576171875\n",
      "epoch 2, loss 2411.34033203125\n",
      "epoch 3, loss 2411.34033203125\n",
      "epoch 4, loss 2411.33984375\n",
      "epoch 0, loss 2411.338623046875\n",
      "epoch 1, loss 2411.33837890625\n",
      "epoch 2, loss 2411.337890625\n",
      "epoch 3, loss 2411.33740234375\n",
      "epoch 4, loss 2411.337158203125\n",
      "epoch 0, loss 2411.335693359375\n",
      "epoch 1, loss 2411.33544921875\n",
      "epoch 2, loss 2411.335205078125\n",
      "epoch 3, loss 2411.335205078125\n",
      "epoch 4, loss 2411.335205078125\n",
      "epoch 0, loss 2411.33447265625\n",
      "epoch 1, loss 2411.334228515625\n",
      "epoch 2, loss 2411.334228515625\n",
      "epoch 3, loss 2411.334228515625\n",
      "epoch 4, loss 2411.333984375\n"
     ]
    }
   ],
   "source": [
    "feature_list = []\n",
    "purchase_list = []\n",
    "\n",
    "model = SimpleNN(input_size, hidden_size, output_size).to(device)\n",
    "optimizer = optim.SGD(model.parameters(), lr=0.01, weight_decay=0.01)\n",
    "for t in range(0,1000):\n",
    "    context = CONTEXT_ARRAY[t]\n",
    "\n",
    "    purchase_list.append(PURCHASE_LIST[t])\n",
    "\n",
    "    feature_list.append(np.array(context))\n",
    "\n",
    "    if t%100 == 99:\n",
    "        loss_function = customloss(theta)\n",
    "        epochs = 5\n",
    "        for epoch in range(epochs):\n",
    "            \n",
    "            output_list = [model(torch.tensor(a,dtype = torch.float32).to(device)) for a in feature_list]\n",
    "            loss = loss_function(output_list, purchase_list)\n",
    "\n",
    "            optimizer.zero_grad()\n",
    "            loss.backward()\n",
    "            optimizer.step()\n",
    "         \n",
    "            print('epoch {}, loss {}'.format(epoch, loss.item()))"
   ]
  },
  {
   "cell_type": "code",
   "execution_count": 84,
   "metadata": {},
   "outputs": [],
   "source": [
    "model = SimpleNN(input_size, hidden_size, output_size).to(device)"
   ]
  },
  {
   "cell_type": "code",
   "execution_count": 88,
   "metadata": {},
   "outputs": [
    {
     "name": "stdout",
     "output_type": "stream",
     "text": [
      "[0.07958204 0.22451541 0.24934586 0.08885355 0.05108825 0.08780105\n",
      " 0.09688146 0.12193237]\n",
      "[[0.12208319 0.12550613 0.12462931 0.12528159 0.12241695 0.12624263\n",
      "  0.12695148 0.12688872]]\n"
     ]
    }
   ],
   "source": [
    "problist  = np.load('prob_list.npy')\n",
    "def hhh(i):\n",
    "    ff = model(torch.tensor(CONTEXT_ARRAY[i],dtype = torch.float32).to(device))\n",
    "    ff = ff.cpu().detach().numpy()\n",
    "    u = (ff @ theta.T ).reshape(1,-1)\n",
    "    prob = np.exp(u) / (np.sum(np.exp(u)))\n",
    "    \n",
    "    print(problist[i])\n",
    "    print(prob)\n",
    "\n",
    "hhh(100)   "
   ]
  },
  {
   "cell_type": "code",
   "execution_count": 63,
   "metadata": {},
   "outputs": [
    {
     "ename": "NameError",
     "evalue": "name 'y_list' is not defined",
     "output_type": "error",
     "traceback": [
      "\u001b[1;31m---------------------------------------------------------------------------\u001b[0m",
      "\u001b[1;31mNameError\u001b[0m                                 Traceback (most recent call last)",
      "\u001b[1;32mc:\\gitproject\\Neural_bandit\\测试神经网络\\anntest.ipynb Cell 9\u001b[0m line \u001b[0;36m4\n\u001b[0;32m      <a href='vscode-notebook-cell:/c%3A/gitproject/Neural_bandit/%E6%B5%8B%E8%AF%95%E7%A5%9E%E7%BB%8F%E7%BD%91%E7%BB%9C/anntest.ipynb#X11sZmlsZQ%3D%3D?line=0'>1</a>\u001b[0m theta2 \u001b[39m=\u001b[39m torch\u001b[39m.\u001b[39mtensor(theta, dtype\u001b[39m=\u001b[39m torch\u001b[39m.\u001b[39mfloat32)\u001b[39m.\u001b[39mto(device) \n\u001b[0;32m      <a href='vscode-notebook-cell:/c%3A/gitproject/Neural_bandit/%E6%B5%8B%E8%AF%95%E7%A5%9E%E7%BB%8F%E7%BD%91%E7%BB%9C/anntest.ipynb#X11sZmlsZQ%3D%3D?line=2'>3</a>\u001b[0m \u001b[39mfor\u001b[39;00m output \u001b[39min\u001b[39;00m output_list:  \n\u001b[1;32m----> <a href='vscode-notebook-cell:/c%3A/gitproject/Neural_bandit/%E6%B5%8B%E8%AF%95%E7%A5%9E%E7%BB%8F%E7%BD%91%E7%BB%9C/anntest.ipynb#X11sZmlsZQ%3D%3D?line=3'>4</a>\u001b[0m     y \u001b[39m=\u001b[39m torch\u001b[39m.\u001b[39mtensor(y_list[index])\u001b[39m.\u001b[39mto(device) \n\u001b[0;32m      <a href='vscode-notebook-cell:/c%3A/gitproject/Neural_bandit/%E6%B5%8B%E8%AF%95%E7%A5%9E%E7%BB%8F%E7%BD%91%E7%BB%9C/anntest.ipynb#X11sZmlsZQ%3D%3D?line=4'>5</a>\u001b[0m     v \u001b[39m=\u001b[39m torch\u001b[39m.\u001b[39mmm(output, theta2\u001b[39m.\u001b[39mview(\u001b[39m-\u001b[39m\u001b[39m1\u001b[39m,\u001b[39m1\u001b[39m)) \n\u001b[0;32m      <a href='vscode-notebook-cell:/c%3A/gitproject/Neural_bandit/%E6%B5%8B%E8%AF%95%E7%A5%9E%E7%BB%8F%E7%BD%91%E7%BB%9C/anntest.ipynb#X11sZmlsZQ%3D%3D?line=5'>6</a>\u001b[0m     prob \u001b[39m=\u001b[39m torch\u001b[39m.\u001b[39mexp(v) \u001b[39m/\u001b[39m (torch\u001b[39m.\u001b[39msum(torch\u001b[39m.\u001b[39mexp(v)))  \n",
      "\u001b[1;31mNameError\u001b[0m: name 'y_list' is not defined"
     ]
    }
   ],
   "source": [
    "theta2 = torch.tensor(theta, dtype= torch.float32).to(device) \n",
    "\n",
    "for output in output_list:  \n",
    "    y = torch.tensor(y_list[index]).to(device) \n",
    "    v = torch.mm(output, theta2.view(-1,1)) \n",
    "    prob = torch.exp(v) / (torch.sum(torch.exp(v)))  \n",
    "\n",
    "prob"
   ]
  },
  {
   "cell_type": "code",
   "execution_count": null,
   "metadata": {},
   "outputs": [],
   "source": []
  }
 ],
 "metadata": {
  "kernelspec": {
   "display_name": "bandit",
   "language": "python",
   "name": "python3"
  },
  "language_info": {
   "codemirror_mode": {
    "name": "ipython",
    "version": 3
   },
   "file_extension": ".py",
   "mimetype": "text/x-python",
   "name": "python",
   "nbconvert_exporter": "python",
   "pygments_lexer": "ipython3",
   "version": "3.9.18"
  }
 },
 "nbformat": 4,
 "nbformat_minor": 2
}
