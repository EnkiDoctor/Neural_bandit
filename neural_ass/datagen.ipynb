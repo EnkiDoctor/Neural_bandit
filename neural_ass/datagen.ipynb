{
 "cells": [
  {
   "cell_type": "code",
   "execution_count": 1,
   "metadata": {},
   "outputs": [],
   "source": [
    "# set the random seed \n",
    "import numpy as np\n",
    "np.random.seed(42)"
   ]
  },
  {
   "cell_type": "code",
   "execution_count": 2,
   "metadata": {},
   "outputs": [],
   "source": [
    "# give 50 random 10-dimensional features and 10 random rewards\n",
    "np.random.seed(42)\n",
    "features = np.random.rand(500, 10)\n",
    "rewards = 10*np.random.rand(500, 1)"
   ]
  },
  {
   "cell_type": "code",
   "execution_count": 3,
   "metadata": {},
   "outputs": [
    {
     "data": {
      "text/plain": [
       "array([[3.74540119e-01, 9.50714306e-01, 7.31993942e-01, ...,\n",
       "        8.66176146e-01, 6.01115012e-01, 7.08072578e-01],\n",
       "       [2.05844943e-02, 9.69909852e-01, 8.32442641e-01, ...,\n",
       "        5.24756432e-01, 4.31945019e-01, 2.91229140e-01],\n",
       "       [6.11852895e-01, 1.39493861e-01, 2.92144649e-01, ...,\n",
       "        5.14234438e-01, 5.92414569e-01, 4.64504127e-02],\n",
       "       ...,\n",
       "       [4.75100341e-01, 8.97955216e-01, 5.25049340e-01, ...,\n",
       "        2.05980036e-01, 9.43415268e-04, 3.92650516e-02],\n",
       "       [9.77283823e-01, 2.42353695e-01, 6.63310710e-01, ...,\n",
       "        6.00251410e-01, 7.31250589e-01, 7.69746623e-01],\n",
       "       [9.75410368e-01, 5.73563280e-01, 3.41641113e-01, ...,\n",
       "        3.27842838e-01, 8.15745381e-01, 5.97312378e-01]])"
      ]
     },
     "execution_count": 3,
     "metadata": {},
     "output_type": "execute_result"
    }
   ],
   "source": [
    "features"
   ]
  },
  {
   "cell_type": "code",
   "execution_count": 4,
   "metadata": {},
   "outputs": [
    {
     "data": {
      "text/plain": [
       "array([[0.37454012, 0.95071431, 0.73199394, 0.59865848, 0.15601864,\n",
       "        0.15599452, 0.05808361, 0.86617615, 0.60111501, 0.70807258]])"
      ]
     },
     "execution_count": 4,
     "metadata": {},
     "output_type": "execute_result"
    }
   ],
   "source": [
    "# give 10-dimensional random weights \n",
    "# set the random seed\n",
    "np.random.seed(42)\n",
    "theta = np.random.rand(10, 1).reshape(1,-1)\n",
    "theta"
   ]
  },
  {
   "cell_type": "code",
   "execution_count": 5,
   "metadata": {},
   "outputs": [],
   "source": [
    "#v = (features @ theta.T).reshape(1,-1)"
   ]
  },
  {
   "cell_type": "code",
   "execution_count": 6,
   "metadata": {},
   "outputs": [],
   "source": [
    "features = [np.random.rand(20,10) for i in range(10000)]"
   ]
  },
  {
   "cell_type": "code",
   "execution_count": 7,
   "metadata": {},
   "outputs": [],
   "source": [
    "rewards = [10*np.random.rand(20,1).reshape(1,-1) for i in range(10000)]"
   ]
  },
  {
   "cell_type": "code",
   "execution_count": 8,
   "metadata": {},
   "outputs": [],
   "source": [
    "np.save('features.npy', features)"
   ]
  },
  {
   "cell_type": "code",
   "execution_count": 9,
   "metadata": {},
   "outputs": [],
   "source": [
    "np.save('linear_data/theta.npy', theta)"
   ]
  },
  {
   "cell_type": "code",
   "execution_count": 10,
   "metadata": {},
   "outputs": [],
   "source": [
    "np.save('linear_data/rewards.npy', rewards)"
   ]
  },
  {
   "cell_type": "code",
   "execution_count": 11,
   "metadata": {},
   "outputs": [
    {
     "data": {
      "text/plain": [
       "array([[0.37454012, 0.95071431, 0.73199394, 0.59865848, 0.15601864,\n",
       "        0.15599452, 0.05808361, 0.86617615, 0.60111501, 0.70807258]])"
      ]
     },
     "execution_count": 11,
     "metadata": {},
     "output_type": "execute_result"
    }
   ],
   "source": [
    "theta"
   ]
  },
  {
   "cell_type": "code",
   "execution_count": 13,
   "metadata": {},
   "outputs": [
    {
     "data": {
      "text/plain": [
       "array([[2.66131965],\n",
       "       [1.8346095 ],\n",
       "       [2.10736453],\n",
       "       [2.15785084],\n",
       "       [2.99301253],\n",
       "       [2.79887389],\n",
       "       [1.60084431],\n",
       "       [2.75765083],\n",
       "       [2.30546575],\n",
       "       [2.20218659],\n",
       "       [2.78759274],\n",
       "       [2.71407704],\n",
       "       [2.40063147],\n",
       "       [1.89320984],\n",
       "       [2.51576761],\n",
       "       [2.2908628 ],\n",
       "       [1.9434175 ],\n",
       "       [2.59891711],\n",
       "       [3.93801954],\n",
       "       [1.77025654]])"
      ]
     },
     "execution_count": 13,
     "metadata": {},
     "output_type": "execute_result"
    }
   ],
   "source": [
    "features[0] @ theta.T"
   ]
  },
  {
   "cell_type": "code",
   "execution_count": 1,
   "metadata": {},
   "outputs": [],
   "source": [
    "import numpy as np  \n",
    "TRUE_THETA = np.load('linear_data/theta.npy')"
   ]
  },
  {
   "cell_type": "code",
   "execution_count": 2,
   "metadata": {},
   "outputs": [
    {
     "data": {
      "text/plain": [
       "array([[0.37454012, 0.95071431, 0.73199394, 0.59865848, 0.15601864,\n",
       "        0.15599452, 0.05808361, 0.86617615, 0.60111501, 0.70807258]])"
      ]
     },
     "execution_count": 2,
     "metadata": {},
     "output_type": "execute_result"
    }
   ],
   "source": [
    "TRUE_THETA"
   ]
  },
  {
   "cell_type": "code",
   "execution_count": null,
   "metadata": {},
   "outputs": [],
   "source": []
  }
 ],
 "metadata": {
  "kernelspec": {
   "display_name": "bandit",
   "language": "python",
   "name": "python3"
  },
  "language_info": {
   "codemirror_mode": {
    "name": "ipython",
    "version": 3
   },
   "file_extension": ".py",
   "mimetype": "text/x-python",
   "name": "python",
   "nbconvert_exporter": "python",
   "pygments_lexer": "ipython3",
   "version": "3.9.18"
  }
 },
 "nbformat": 4,
 "nbformat_minor": 2
}
