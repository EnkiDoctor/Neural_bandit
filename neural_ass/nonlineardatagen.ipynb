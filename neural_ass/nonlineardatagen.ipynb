{
 "cells": [
  {
   "cell_type": "code",
   "execution_count": 42,
   "metadata": {},
   "outputs": [],
   "source": [
    "import numpy as np\n",
    "np.random.seed(42)"
   ]
  },
  {
   "cell_type": "code",
   "execution_count": null,
   "metadata": {},
   "outputs": [],
   "source": [
    "np.random.rand()"
   ]
  },
  {
   "cell_type": "code",
   "execution_count": 88,
   "metadata": {},
   "outputs": [],
   "source": [
    "np.random.seed(42)\n",
    "#features = 3*np.random.randn(500,10)\n",
    "#rewards = 10 * np.random.rand(500,1)\n",
    "\n",
    "features = [10*np.random.randn(20,10)-5 for i in range(10000)]\n",
    "rewards = [10*np.random.rand(20,1).reshape(1,-1) for i in range(10000)]"
   ]
  },
  {
   "cell_type": "code",
   "execution_count": 89,
   "metadata": {},
   "outputs": [],
   "source": [
    "# sigmoid function\n",
    "def sigmoid(x):\n",
    "    return 1 / (1 + np.exp(-x))\n",
    "def sigmoid_list(x):\n",
    "    return np.array([sigmoid(i) for i in x])"
   ]
  },
  {
   "cell_type": "code",
   "execution_count": 90,
   "metadata": {},
   "outputs": [],
   "source": [
    "theta = np.random.rand(10,1).reshape(1,-1)"
   ]
  },
  {
   "cell_type": "code",
   "execution_count": 91,
   "metadata": {},
   "outputs": [
    {
     "data": {
      "text/plain": [
       "array([[0.26730065, 0.65786584, 0.69499535, 0.48432088, 0.74675553,\n",
       "        0.2463713 , 0.12375139, 0.59859644, 0.39209949, 0.80429024]])"
      ]
     },
     "execution_count": 91,
     "metadata": {},
     "output_type": "execute_result"
    }
   ],
   "source": [
    "theta"
   ]
  },
  {
   "cell_type": "code",
   "execution_count": 93,
   "metadata": {},
   "outputs": [
    {
     "data": {
      "text/plain": [
       "array([[2.35351899],\n",
       "       [0.12980743],\n",
       "       [0.41611247],\n",
       "       [1.4235569 ],\n",
       "       [0.93430527],\n",
       "       [2.2492716 ],\n",
       "       [1.6360929 ],\n",
       "       [1.44444621],\n",
       "       [1.46446038],\n",
       "       [0.72456003],\n",
       "       [0.2499179 ],\n",
       "       [1.66307011],\n",
       "       [1.72790765],\n",
       "       [0.84133689],\n",
       "       [1.29928921],\n",
       "       [1.30119548],\n",
       "       [2.84665768],\n",
       "       [1.79793926],\n",
       "       [0.70563461],\n",
       "       [0.78709117]])"
      ]
     },
     "execution_count": 93,
     "metadata": {},
     "output_type": "execute_result"
    }
   ],
   "source": [
    "sigmoid(features[0]) @theta.T"
   ]
  },
  {
   "cell_type": "code",
   "execution_count": 61,
   "metadata": {},
   "outputs": [],
   "source": [
    "np.save('nonlinear_data/features.npy', features)\n",
    "np.save('nonlinear_data/rewards.npy', rewards)\n",
    "np.save('nonlinear_data/theta.npy', theta)"
   ]
  },
  {
   "cell_type": "code",
   "execution_count": 53,
   "metadata": {},
   "outputs": [],
   "source": [
    "features = np.load('nonlinear_data/features.npy')    "
   ]
  },
  {
   "cell_type": "code",
   "execution_count": 57,
   "metadata": {},
   "outputs": [
    {
     "data": {
      "text/plain": [
       "array([0.81609965, 0.39776343, 0.87468855, 0.98973899, 0.33126701,\n",
       "       0.33127792, 0.99131675, 0.90906769, 0.19648288, 0.83585159])"
      ]
     },
     "execution_count": 57,
     "metadata": {},
     "output_type": "execute_result"
    }
   ],
   "source": [
    "sigmoid(features[0][0])"
   ]
  },
  {
   "cell_type": "code",
   "execution_count": 58,
   "metadata": {},
   "outputs": [
    {
     "data": {
      "text/plain": [
       "array([ 1.49014246, -0.4147929 ,  1.94306561,  4.56908957, -0.70246012,\n",
       "       -0.70241087,  4.73763845,  2.30230419, -1.40842316,  1.62768013])"
      ]
     },
     "execution_count": 58,
     "metadata": {},
     "output_type": "execute_result"
    }
   ],
   "source": [
    "features[0][0]"
   ]
  },
  {
   "cell_type": "code",
   "execution_count": null,
   "metadata": {},
   "outputs": [],
   "source": []
  }
 ],
 "metadata": {
  "kernelspec": {
   "display_name": "bandit",
   "language": "python",
   "name": "python3"
  },
  "language_info": {
   "codemirror_mode": {
    "name": "ipython",
    "version": 3
   },
   "file_extension": ".py",
   "mimetype": "text/x-python",
   "name": "python",
   "nbconvert_exporter": "python",
   "pygments_lexer": "ipython3",
   "version": "3.9.18"
  }
 },
 "nbformat": 4,
 "nbformat_minor": 2
}
