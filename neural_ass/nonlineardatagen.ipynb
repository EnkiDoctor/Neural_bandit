{
 "cells": [
  {
   "cell_type": "code",
   "execution_count": 1,
   "metadata": {},
   "outputs": [],
   "source": [
    "import numpy as np\n",
    "np.random.seed(42)"
   ]
  },
  {
   "cell_type": "code",
   "execution_count": 2,
   "metadata": {},
   "outputs": [
    {
     "data": {
      "text/plain": [
       "0.3745401188473625"
      ]
     },
     "execution_count": 2,
     "metadata": {},
     "output_type": "execute_result"
    }
   ],
   "source": [
    "np.random.rand()"
   ]
  },
  {
   "cell_type": "code",
   "execution_count": 22,
   "metadata": {},
   "outputs": [],
   "source": [
    "np.random.seed(42)\n",
    "#features = 3*np.random.randn(500,10)\n",
    "#rewards = 10 * np.random.rand(500,1)\n",
    "\n",
    "features = [2*np.random.randn(20,10) - 1 for i in range(10000)]\n",
    "rewards = [10*np.random.rand(20,1).reshape(1,-1) for i in range(10000)]"
   ]
  },
  {
   "cell_type": "code",
   "execution_count": 23,
   "metadata": {},
   "outputs": [],
   "source": [
    "# sigmoid function\n",
    "def sigmoid(x):\n",
    "    return 1 / (1 + np.exp(-x))\n",
    "def sigmoid_list(x):\n",
    "    return np.array([sigmoid(i) for i in x])"
   ]
  },
  {
   "cell_type": "code",
   "execution_count": 24,
   "metadata": {},
   "outputs": [],
   "source": [
    "theta = np.random.rand(10,1).reshape(1,-1)"
   ]
  },
  {
   "cell_type": "code",
   "execution_count": 25,
   "metadata": {},
   "outputs": [
    {
     "data": {
      "text/plain": [
       "array([[0.26730065, 0.65786584, 0.69499535, 0.48432088, 0.74675553,\n",
       "        0.2463713 , 0.12375139, 0.59859644, 0.39209949, 0.80429024]])"
      ]
     },
     "execution_count": 25,
     "metadata": {},
     "output_type": "execute_result"
    }
   ],
   "source": [
    "theta"
   ]
  },
  {
   "cell_type": "code",
   "execution_count": 26,
   "metadata": {},
   "outputs": [
    {
     "data": {
      "text/plain": [
       "array([[2.24695782],\n",
       "       [0.70516944],\n",
       "       [1.17688051],\n",
       "       [1.68686302],\n",
       "       [1.30225979],\n",
       "       [2.11405828],\n",
       "       [1.61535428],\n",
       "       [1.73700765],\n",
       "       [1.86490191],\n",
       "       [1.33789084],\n",
       "       [1.17095692],\n",
       "       [1.96033259],\n",
       "       [1.74616723],\n",
       "       [1.11113801],\n",
       "       [1.80850458],\n",
       "       [1.82086638],\n",
       "       [2.43986114],\n",
       "       [2.30373735],\n",
       "       [0.99286705],\n",
       "       [1.4567378 ]])"
      ]
     },
     "execution_count": 26,
     "metadata": {},
     "output_type": "execute_result"
    }
   ],
   "source": [
    "sigmoid(features[0]) @ theta.T"
   ]
  },
  {
   "cell_type": "code",
   "execution_count": 27,
   "metadata": {},
   "outputs": [],
   "source": [
    "np.save('nonlinear_data/features.npy', features)\n",
    "np.save('nonlinear_data/rewards.npy', rewards)\n",
    "np.save('nonlinear_data/theta.npy', theta)"
   ]
  },
  {
   "cell_type": "code",
   "execution_count": 14,
   "metadata": {},
   "outputs": [],
   "source": [
    "features = np.load('nonlinear_data/features.npy')    "
   ]
  },
  {
   "cell_type": "code",
   "execution_count": 17,
   "metadata": {},
   "outputs": [
    {
     "data": {
      "text/plain": [
       "array([[2.93589423],\n",
       "       [1.66005668],\n",
       "       [2.23384566],\n",
       "       [2.37417342],\n",
       "       [2.1299019 ],\n",
       "       [2.79988452],\n",
       "       [2.40457323],\n",
       "       [2.28414283],\n",
       "       [2.66070183],\n",
       "       [2.35837326],\n",
       "       [2.28364967],\n",
       "       [2.68886523],\n",
       "       [2.48683945],\n",
       "       [2.02386048],\n",
       "       [2.49917223],\n",
       "       [2.64523068],\n",
       "       [2.9269907 ],\n",
       "       [2.96519038],\n",
       "       [1.97149844],\n",
       "       [2.36573891]])"
      ]
     },
     "execution_count": 17,
     "metadata": {},
     "output_type": "execute_result"
    }
   ],
   "source": [
    "sigmoid(features[0]) @ theta.T"
   ]
  },
  {
   "cell_type": "code",
   "execution_count": 58,
   "metadata": {},
   "outputs": [
    {
     "data": {
      "text/plain": [
       "array([ 1.49014246, -0.4147929 ,  1.94306561,  4.56908957, -0.70246012,\n",
       "       -0.70241087,  4.73763845,  2.30230419, -1.40842316,  1.62768013])"
      ]
     },
     "execution_count": 58,
     "metadata": {},
     "output_type": "execute_result"
    }
   ],
   "source": [
    "features[0][0]"
   ]
  },
  {
   "cell_type": "code",
   "execution_count": null,
   "metadata": {},
   "outputs": [],
   "source": []
  }
 ],
 "metadata": {
  "kernelspec": {
   "display_name": "bandit",
   "language": "python",
   "name": "python3"
  },
  "language_info": {
   "codemirror_mode": {
    "name": "ipython",
    "version": 3
   },
   "file_extension": ".py",
   "mimetype": "text/x-python",
   "name": "python",
   "nbconvert_exporter": "python",
   "pygments_lexer": "ipython3",
   "version": "3.9.18"
  }
 },
 "nbformat": 4,
 "nbformat_minor": 2
}
