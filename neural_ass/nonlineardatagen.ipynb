{
 "cells": [
  {
   "cell_type": "code",
   "execution_count": 1,
   "metadata": {},
   "outputs": [],
   "source": [
    "import numpy as np\n",
    "np.random.seed(42)"
   ]
  },
  {
   "cell_type": "code",
   "execution_count": 19,
   "metadata": {},
   "outputs": [],
   "source": [
    "np.random.seed(42)\n",
    "features = [np.random.rand(20,10) for i in range(10000)]\n",
    "rewards = [10*np.random.rand(20,1).reshape(1,-1) for i in range(10000)]\n",
    "coefficients = np.random.rand(10)  # 多项式系数"
   ]
  },
  {
   "cell_type": "code",
   "execution_count": 20,
   "metadata": {},
   "outputs": [
    {
     "data": {
      "text/plain": [
       "array([0.36665562, 0.81938235, 0.04123807, 0.67944948, 0.75119652,\n",
       "       0.75012619, 0.73291325, 0.30737957, 0.54550571, 0.08337696])"
      ]
     },
     "execution_count": 20,
     "metadata": {},
     "output_type": "execute_result"
    }
   ],
   "source": [
    "coefficients"
   ]
  },
  {
   "cell_type": "code",
   "execution_count": 23,
   "metadata": {},
   "outputs": [],
   "source": [
    "num_features = 10\n",
    "def funct(X):\n",
    "    return np.dot(np.power(X, np.arange(num_features)), coefficients)"
   ]
  },
  {
   "cell_type": "code",
   "execution_count": 28,
   "metadata": {},
   "outputs": [
    {
     "data": {
      "text/plain": [
       "array([1.43951265, 1.20205232, 0.7854859 , 2.02600135, 1.39061812,\n",
       "       2.12046939, 0.82791308, 1.39433037, 1.22505515, 1.39826075,\n",
       "       1.53864382, 1.80846032, 1.44603632, 1.27680908, 0.64670189,\n",
       "       1.47118052, 1.31242471, 0.93275201, 1.27768519, 1.79059343])"
      ]
     },
     "execution_count": 28,
     "metadata": {},
     "output_type": "execute_result"
    }
   ],
   "source": [
    "funct(features[0])"
   ]
  },
  {
   "cell_type": "code",
   "execution_count": null,
   "metadata": {},
   "outputs": [],
   "source": []
  }
 ],
 "metadata": {
  "kernelspec": {
   "display_name": "bandit",
   "language": "python",
   "name": "python3"
  },
  "language_info": {
   "codemirror_mode": {
    "name": "ipython",
    "version": 3
   },
   "file_extension": ".py",
   "mimetype": "text/x-python",
   "name": "python",
   "nbconvert_exporter": "python",
   "pygments_lexer": "ipython3",
   "version": "3.9.18"
  }
 },
 "nbformat": 4,
 "nbformat_minor": 2
}
