{
 "cells": [
  {
   "cell_type": "code",
   "execution_count": 1,
   "metadata": {},
   "outputs": [],
   "source": [
    "import numpy as np\n",
    "np.random.seed(42)"
   ]
  },
  {
   "cell_type": "code",
   "execution_count": 2,
   "metadata": {},
   "outputs": [],
   "source": [
    "np.random.seed(42)\n",
    "features = [2*np.random.randn(20,10) - 1 for i in range(20000)]\n",
    "rewards = [10*np.random.rand(20,1).reshape(1,-1) for i in range(20000)]"
   ]
  },
  {
   "cell_type": "code",
   "execution_count": 3,
   "metadata": {},
   "outputs": [],
   "source": [
    "def relu(x):\n",
    "    return np.maximum(x, 0)\n",
    "def relu_list(x):\n",
    "    return np.array([relu(i) for i in x])"
   ]
  },
  {
   "cell_type": "code",
   "execution_count": 4,
   "metadata": {},
   "outputs": [],
   "source": [
    "theta = np.random.rand(10,1).reshape(1,-1)"
   ]
  },
  {
   "cell_type": "code",
   "execution_count": 5,
   "metadata": {},
   "outputs": [
    {
     "data": {
      "text/plain": [
       "array([[1.17698667],\n",
       "       [0.        ],\n",
       "       [1.15354453],\n",
       "       [0.85993711],\n",
       "       [0.93614486],\n",
       "       [0.9581834 ],\n",
       "       [1.25039649],\n",
       "       [0.99825197],\n",
       "       [2.03053694],\n",
       "       [0.25375467],\n",
       "       [0.4013722 ],\n",
       "       [1.48261659],\n",
       "       [3.19613156],\n",
       "       [1.05553495],\n",
       "       [0.64182041],\n",
       "       [0.54439052],\n",
       "       [3.34307537],\n",
       "       [3.43229813],\n",
       "       [0.28458384],\n",
       "       [0.19297733]])"
      ]
     },
     "execution_count": 5,
     "metadata": {},
     "output_type": "execute_result"
    }
   ],
   "source": [
    "relu(features[0]) @ theta.T"
   ]
  },
  {
   "cell_type": "code",
   "execution_count": 6,
   "metadata": {},
   "outputs": [],
   "source": [
    "np.save('features.npy', features)\n",
    "np.save('rewards.npy', rewards)\n",
    "np.save('theta.npy', theta)"
   ]
  },
  {
   "cell_type": "code",
   "execution_count": null,
   "metadata": {},
   "outputs": [],
   "source": []
  }
 ],
 "metadata": {
  "kernelspec": {
   "display_name": "bandit",
   "language": "python",
   "name": "python3"
  },
  "language_info": {
   "codemirror_mode": {
    "name": "ipython",
    "version": 3
   },
   "file_extension": ".py",
   "mimetype": "text/x-python",
   "name": "python",
   "nbconvert_exporter": "python",
   "pygments_lexer": "ipython3",
   "version": "3.9.18"
  }
 },
 "nbformat": 4,
 "nbformat_minor": 2
}
