{
 "cells": [
  {
   "cell_type": "code",
   "execution_count": 1,
   "metadata": {},
   "outputs": [
    {
     "name": "stdout",
     "output_type": "stream",
     "text": [
      "cuda:0\n"
     ]
    }
   ],
   "source": [
    "import os\n",
    "\n",
    "os.environ[\"KMP_DUPLICATE_LIB_OK\"]=\"TRUE\"\n",
    "import numpy as np\n",
    "import torch\n",
    "import math \n",
    "import copy\n",
    "import random\n",
    "import argparse\n",
    "import torch.optim as optim\n",
    "import torch.nn as nn\n",
    "import modeldefine\n",
    "device = torch.device(\"cuda:0\" if torch.cuda.is_available() else \"cpu\")\n",
    "print(device)"
   ]
  },
  {
   "cell_type": "code",
   "execution_count": 41,
   "metadata": {},
   "outputs": [],
   "source": [
    "alpha = 0.01\n",
    "\n",
    "def UCB(A, phi):\n",
    "    #### ucb term\n",
    "    phi = phi.view(-1,1)\n",
    "    try:\n",
    "        tmp, LU = torch.linalg.solve(phi,A)\n",
    "    except:\n",
    "        A = A.detach().numpy()\n",
    "        phi2 = phi.detach().numpy()\n",
    "        tmp = torch.Tensor(np.linalg.solve(A, phi2))\n",
    "\n",
    "    return torch.sqrt(torch.matmul(torch.transpose(phi,1,0), tmp))\n",
    "\n",
    "def calculate_v(contextinfo_list, A, theta):\n",
    "    vj_list = []\n",
    "    feature_list = []\n",
    "    for i in contextinfo_list:\n",
    "        feature = model(i.to(device)).cpu()\n",
    "        first_item =  torch.mm( feature.view(1,-1) , theta)\n",
    "        second_item = alpha * UCB(A, feature)\n",
    "        vj_list.append((first_item + second_item).item())\n",
    "        feature_list.append(feature.detach().numpy())\n",
    "    return np.array(vj_list), feature_list\n",
    "\n",
    "def update_A(A, info_subset):\n",
    "    for i in info_subset:\n",
    "        feature = model(i.to(device)).cpu()\n",
    "        A = A + torch.mm(feature.t(), feature)\n",
    "    return A\n",
    "\n",
    "def prob(vj_list):\n",
    "    sum = np.sum(np.exp(vj_list)) + 1\n",
    "    return [np.exp(vj_list[i]) / sum for i in range(len(vj_list))]  \n",
    "\n",
    "def revenue(vj_list, reward_list):\n",
    "    sum = np.sum(np.exp(vj_list)) + 1\n",
    "    return np.sum(np.multiply(np.exp(vj_list), reward_list) / sum)\n",
    "\n",
    "def assort(contextinfo_list, reward_list, vj_list):\n",
    "    length = len(vj_list)\n",
    "    # sort the contextinfo_list and vj with descending order of reward_list\n",
    "    sorted_list = sorted(zip(contextinfo_list, vj_list, reward_list), key=lambda x: x[2], reverse=True)\n",
    "    contextinfo_list = [x[0] for x in sorted_list]\n",
    "    vj_list = [x[1] for x in sorted_list]\n",
    "    reward_list = [x[2] for x in sorted_list]\n",
    "\n",
    "    # calculate the optimal assortment\n",
    "    optimal_assort = []\n",
    "    optimal_reward = 0\n",
    "    index = 1\n",
    "    for i in range(length):\n",
    "        if revenue(vj_list[:index], reward_list[:index]) >= optimal_reward:\n",
    "            optimal_reward = revenue(vj_list[:index], reward_list[:index])\n",
    "            index += 1\n",
    "        else:\n",
    "            break\n",
    "    return contextinfo_list[:index]"
   ]
  },
  {
   "cell_type": "code",
   "execution_count": 3,
   "metadata": {},
   "outputs": [],
   "source": [
    "def likelihood(theta, feature_list,y_list):\n",
    "    # feature's dimension is len * dimension , theta is 1*dimension\n",
    "    v_list = np.matmul(feature_list, theta.T).reshape(-1)\n",
    "    ln_prob = np.log(prob(v_list))\n",
    "    summation = ln_prob * y_list\n",
    "    return -1 * np.sum(ln_prob)\n",
    "\n",
    "def likelihood_derivative(theta, feature_list, y_list):\n",
    "    v_list = np.matmul(feature_list, theta.T).reshape(-1)\n",
    "    prob_list = prob(v_list)\n",
    "    summation = np.matmul(np.array(feature_list).T, (y_list - prob_list))\n",
    "    return -1 * summation"
   ]
  },
  {
   "cell_type": "code",
   "execution_count": 86,
   "metadata": {},
   "outputs": [
    {
     "name": "stderr",
     "output_type": "stream",
     "text": [
      "C:\\Users\\杜骏晔\\AppData\\Local\\Temp\\ipykernel_26556\\3093194360.py:4: RuntimeWarning: divide by zero encountered in log\n",
      "  ln_prob = np.log(prob(v_list))\n",
      "C:\\Users\\杜骏晔\\AppData\\Local\\Temp\\ipykernel_26556\\3093194360.py:5: RuntimeWarning: invalid value encountered in multiply\n",
      "  summation = ln_prob * y_list\n"
     ]
    },
    {
     "name": "stdout",
     "output_type": "stream",
     "text": [
      "最优参数: [ -9.28791415  10.75118047 -10.35431476   3.03321144   4.85594309\n",
      "   5.28008933 -13.60273543   6.45015259  -8.79067984   7.59958689\n",
      "   9.13536936   3.55705702  -2.93728797   0.69546937  -6.09454989]\n"
     ]
    }
   ],
   "source": [
    "import numpy as np\n",
    "from scipy.optimize import minimize\n",
    "\n",
    "initial_guess = np.array([0.5 for i in range(15)])  \n",
    "\n",
    "known_feature = a\n",
    "known_y =  y\n",
    "\n",
    "result = minimize(likelihood, initial_guess, args=(known_feature, known_y), method='SLSQP', \n",
    "                  constraints={'type':'eq', 'fun': likelihood_derivative, 'args':(known_feature, known_y)})\n",
    "\n",
    "optimal_parameters = result.x\n",
    "print(\"最优参数:\", optimal_parameters)\n"
   ]
  },
  {
   "cell_type": "code",
   "execution_count": 85,
   "metadata": {},
   "outputs": [],
   "source": []
  },
  {
   "cell_type": "code",
   "execution_count": 4,
   "metadata": {},
   "outputs": [],
   "source": [
    "class CustomLikelihoodLoss(nn.Module):\n",
    "    def __init__(self, theta):\n",
    "        super(CustomLikelihoodLoss, self).__init__()\n",
    "        self.theta = theta\n",
    "        \n",
    "    def forward(self, output_list, y_list):\n",
    "        loss = 0\n",
    "        index = 0\n",
    "        for output in output_list:  \n",
    "            y = torch.tensor(y_list[index]).to(device)\n",
    "            v = torch.mm(output, self.theta.view(-1,1))\n",
    "            prob = torch.exp(v) / (torch.sum(torch.exp(v)) + 1)\n",
    "            loss += torch.sum(torch.log(prob) * y)\n",
    "            index += 1  \n",
    "        return -loss"
   ]
  },
  {
   "cell_type": "code",
   "execution_count": 106,
   "metadata": {},
   "outputs": [],
   "source": [
    "# construct a test set \n",
    "a = torch.randn(100,10).numpy()\n",
    "theta  = np.random.randint(1,4,(1,10)).reshape(-1)\n",
    "y = np.array([1] + [0 for i in range(99)])\n",
    "y = np.random.permutation(y)\n",
    "\n",
    "a_list = []\n",
    "y_list = []\n",
    "for i in [20,30,50,100, 60, 80]:\n",
    "    a = torch.randn(i,10).numpy()\n",
    "    a_list.append(a)\n",
    "    y = np.array([1] + [0 for i in range(i-1)]) \n",
    "    y = np.random.permutation(y)\n",
    "    y_list.append(y)\n"
   ]
  },
  {
   "cell_type": "code",
   "execution_count": null,
   "metadata": {},
   "outputs": [],
   "source": []
  },
  {
   "cell_type": "code",
   "execution_count": 5,
   "metadata": {},
   "outputs": [
    {
     "name": "stdout",
     "output_type": "stream",
     "text": [
      "tensor([ 5, 10, 10, 10, 10, 10, 10], dtype=torch.int32)\n"
     ]
    }
   ],
   "source": [
    "import modeldefine\n",
    "import torch.optim as optim\n",
    "model = modeldefine.Model(5,10,10,5).to(device)\n",
    "# 10 20 20 20 20 20  5\n",
    "optimizer = optim.Adam(model.parameters(), lr=0.1)\n"
   ]
  },
  {
   "cell_type": "code",
   "execution_count": 110,
   "metadata": {},
   "outputs": [
    {
     "name": "stdout",
     "output_type": "stream",
     "text": [
      "Epoch [1/10], Loss: 1420.2218017578125\n",
      "Epoch [2/10], Loss: 1420.2218017578125\n",
      "Epoch [3/10], Loss: 1420.2218017578125\n",
      "Epoch [4/10], Loss: 1420.2218017578125\n",
      "Epoch [5/10], Loss: 1420.2218017578125\n",
      "Epoch [6/10], Loss: 1420.2218017578125\n",
      "Epoch [7/10], Loss: 1420.2218017578125\n",
      "Epoch [8/10], Loss: 1420.2218017578125\n",
      "Epoch [9/10], Loss: 1420.2218017578125\n",
      "Epoch [10/10], Loss: 1420.2218017578125\n"
     ]
    }
   ],
   "source": [
    "loss_function = CustomLikelihoodLoss(torch.Tensor(theta).to(device))\n",
    "epochs = 10\n",
    "\n",
    "for epoch in range(epochs):\n",
    "    output_list = [model(torch.Tensor(a).to(device)) for a in a_list]\n",
    "    loss = loss_function(output_list, y_list)\n",
    "    print(f\"Epoch [{epoch+1}/{epochs}], Loss: {loss.item()}\")\n",
    "      \n",
    "    optimizer.zero_grad()\n",
    "    loss.backward()\n",
    "    optimizer.step()"
   ]
  },
  {
   "cell_type": "code",
   "execution_count": 6,
   "metadata": {},
   "outputs": [],
   "source": [
    "CONTEXT_ARRAY = np.load('linear_data/features.npy') \n",
    "REWARD_ARRAY = np.load('linear_data/rewards.npy')\n",
    "TRUE_THETA = np.load('linear_data/theta.npy')"
   ]
  },
  {
   "cell_type": "code",
   "execution_count": 7,
   "metadata": {},
   "outputs": [],
   "source": [
    "data_length = len(CONTEXT_ARRAY)\n",
    "\n",
    "# define the hyperparameters\n",
    "input_size = 20\n",
    "hidden_size = 20\n",
    "output_size = 10\n",
    "num_layers = 10\n",
    "\n",
    "beta = 0.1\n",
    "lambd = 1\n",
    "H = 100\n",
    "\n",
    "# initialize the parameters\n",
    "\n",
    "theta = np.random.randn(output_size, 1) / np.sqrt(output_size)\n",
    "theta = torch.tensor(theta, dtype=torch.float32)\n",
    "LAMBDA = lambd * torch.eye(output_size, dtype=torch.float32)\n",
    "\n",
    "for t in range(0,10000):\n",
    "    context = CONTEXT_ARRAY[t]\n",
    "    profit = REWARD_ARRAY[t]\n",
    "    v_array = calculate_v(torch.tensor(context,dtype=torch.float32), LAMBDA, theta)[0]\n",
    "    assortment = assort(context, profit.tolist()[0], v_array.tolist() )\n",
    "    "
   ]
  },
  {
   "cell_type": "code",
   "execution_count": 36,
   "metadata": {},
   "outputs": [],
   "source": [
    "context = CONTEXT_ARRAY[1]\n",
    "profit = REWARD_ARRAY[1]\n",
    "\n",
    "v_array = calculate_v(torch.tensor(context,dtype=torch.float32), LAMBDA, theta)[0]"
   ]
  },
  {
   "cell_type": "code",
   "execution_count": 42,
   "metadata": {},
   "outputs": [
    {
     "data": {
      "text/plain": [
       "[array([0.87288918, 0.80581414, 0.19787804, 0.4953588 , 0.74021847,\n",
       "        0.46710976, 0.41584958, 0.68319892, 0.04427872, 0.10969431]),\n",
       " array([0.93023902, 0.67943639, 0.42031603, 0.26120118, 0.71224936,\n",
       "        0.10566559, 0.14503889, 0.71575083, 0.09789287, 0.32400914]),\n",
       " array([0.27043911, 0.91301561, 0.17765901, 0.1509276 , 0.75013311,\n",
       "        0.96394034, 0.35105353, 0.68819658, 0.91029403, 0.98579013]),\n",
       " array([0.87070441, 0.3095844 , 0.67060454, 0.33518521, 0.09222245,\n",
       "        0.42369953, 0.29902919, 0.14342832, 0.69594331, 0.87490535]),\n",
       " array([0.18822713, 0.35742447, 0.36166591, 0.83437478, 0.93996396,\n",
       "        0.67566146, 0.50832378, 0.5704803 , 0.32539995, 0.75333515]),\n",
       " array([0.76438591, 0.46887631, 0.07918692, 0.20564424, 0.84512476,\n",
       "        0.21246723, 0.95477161, 0.1692681 , 0.33776783, 0.59680885]),\n",
       " array([0.97590103, 0.4712956 , 0.35975283, 0.84626926, 0.89347454,\n",
       "        0.22016018, 0.83810063, 0.08024189, 0.75561889, 0.30867027]),\n",
       " array([0.2617273 , 0.21996422, 0.33016498, 0.23558293, 0.37232071,\n",
       "        0.25824601, 0.54077408, 0.31350287, 0.3198635 , 0.78693739]),\n",
       " array([0.87100076, 0.47330735, 0.12817755, 0.80635548, 0.15722875,\n",
       "        0.78843958, 0.74852689, 0.44543641, 0.79659901, 0.45294023])]"
      ]
     },
     "execution_count": 42,
     "metadata": {},
     "output_type": "execute_result"
    }
   ],
   "source": [
    "assort(context, profit.tolist()[0], v_array.tolist() )"
   ]
  },
  {
   "cell_type": "code",
   "execution_count": null,
   "metadata": {},
   "outputs": [],
   "source": []
  }
 ],
 "metadata": {
  "kernelspec": {
   "display_name": "bandit",
   "language": "python",
   "name": "python3"
  },
  "language_info": {
   "codemirror_mode": {
    "name": "ipython",
    "version": 3
   },
   "file_extension": ".py",
   "mimetype": "text/x-python",
   "name": "python",
   "nbconvert_exporter": "python",
   "pygments_lexer": "ipython3",
   "version": "3.9.17"
  }
 },
 "nbformat": 4,
 "nbformat_minor": 2
}
