{
 "cells": [
  {
   "cell_type": "code",
   "execution_count": 2,
   "metadata": {},
   "outputs": [],
   "source": [
    "import numpy\n",
    "import torch"
   ]
  },
  {
   "cell_type": "code",
   "execution_count": 3,
   "metadata": {},
   "outputs": [
    {
     "ename": "ValueError",
     "evalue": "too many values to unpack (expected 2)",
     "output_type": "error",
     "traceback": [
      "\u001b[1;31m---------------------------------------------------------------------------\u001b[0m",
      "\u001b[1;31mValueError\u001b[0m                                Traceback (most recent call last)",
      "Cell \u001b[1;32mIn[3], line 8\u001b[0m\n\u001b[0;32m      5\u001b[0m b \u001b[39m=\u001b[39m numpy\u001b[39m.\u001b[39mrandom\u001b[39m.\u001b[39mrand(\u001b[39m2000\u001b[39m, \u001b[39m1\u001b[39m)\n\u001b[0;32m      6\u001b[0m b \u001b[39m=\u001b[39m torch\u001b[39m.\u001b[39mfrom_numpy(b)\n\u001b[1;32m----> 8\u001b[0m theta, LU \u001b[39m=\u001b[39m torch\u001b[39m.\u001b[39mlinalg\u001b[39m.\u001b[39msolve(a, b)\n",
      "\u001b[1;31mValueError\u001b[0m: too many values to unpack (expected 2)"
     ]
    }
   ],
   "source": [
    "# generate 2000*2000 matrix \n",
    "a = numpy.random.rand(2000, 2000)\n",
    "a = torch.from_numpy(a)\n",
    "# generate 2000*1 vector \n",
    "b = numpy.random.rand(2000, 1)\n",
    "b = torch.from_numpy(b)\n",
    "\n",
    "theta, LU = torch.linalg.solve(a, b)"
   ]
  },
  {
   "cell_type": "code",
   "execution_count": 4,
   "metadata": {},
   "outputs": [
    {
     "name": "stdout",
     "output_type": "stream",
     "text": [
      "\u001b[1;31mDocstring:\u001b[0m\n",
      "linalg.solve(A, B, *, left=True, out=None) -> Tensor\n",
      "\n",
      "Computes the solution of a square system of linear equations with a unique solution.\n",
      "\n",
      "Letting :math:`\\mathbb{K}` be :math:`\\mathbb{R}` or :math:`\\mathbb{C}`,\n",
      "this function computes the solution :math:`X \\in \\mathbb{K}^{n \\times k}` of the **linear system** associated to\n",
      ":math:`A \\in \\mathbb{K}^{n \\times n}, B \\in \\mathbb{K}^{n \\times k}`, which is defined as\n",
      "\n",
      ".. math:: AX = B\n",
      "\n",
      "If :attr:`left`\\ `= False`, this function returns the matrix :math:`X \\in \\mathbb{K}^{n \\times k}` that solves the system\n",
      "\n",
      ".. math::\n",
      "\n",
      "    XA = B\\mathrlap{\\qquad A \\in \\mathbb{K}^{k \\times k}, B \\in \\mathbb{K}^{n \\times k}.}\n",
      "\n",
      "This system of linear equations has one solution if and only if :math:`A` is `invertible`_.\n",
      "This function assumes that :math:`A` is invertible.\n",
      "\n",
      "Supports inputs of float, double, cfloat and cdouble dtypes.\n",
      "Also supports batches of matrices, and if the inputs are batches of matrices then\n",
      "the output has the same batch dimensions.\n",
      "\n",
      "Letting `*` be zero or more batch dimensions,\n",
      "\n",
      "- If :attr:`A` has shape `(*, n, n)` and :attr:`B` has shape `(*, n)` (a batch of vectors) or shape\n",
      "  `(*, n, k)` (a batch of matrices or \"multiple right-hand sides\"), this function returns `X` of shape\n",
      "  `(*, n)` or `(*, n, k)` respectively.\n",
      "- Otherwise, if :attr:`A` has shape `(*, n, n)` and  :attr:`B` has shape `(n,)`  or `(n, k)`, :attr:`B`\n",
      "  is broadcasted to have shape `(*, n)` or `(*, n, k)` respectively.\n",
      "  This function then returns the solution of the resulting batch of systems of linear equations.\n",
      "\n",
      ".. note::\n",
      "    This function computes `X = \\ `:attr:`A`\\ `.inverse() @ \\ `:attr:`B` in a faster and\n",
      "    more numerically stable way than performing the computations separately.\n",
      "\n",
      ".. note::\n",
      "    It is possible to compute the solution of the system :math:`XA = B` by passing the inputs\n",
      "    :attr:`A` and :attr:`B` transposed and transposing the output returned by this function.\n",
      "\n",
      "\n",
      ".. note:: When inputs are on a CUDA device, this function synchronizes that device with the CPU.\n",
      "\n",
      "\n",
      ".. seealso::\n",
      "\n",
      "        :func:`torch.linalg.solve_triangular` computes the solution of a triangular system of linear\n",
      "        equations with a unique solution.\n",
      "\n",
      "Args:\n",
      "    A (Tensor): tensor of shape `(*, n, n)` where `*` is zero or more batch dimensions.\n",
      "    B (Tensor): right-hand side tensor of shape `(*, n)` or  `(*, n, k)` or `(n,)` or `(n, k)`\n",
      "                according to the rules described above\n",
      "\n",
      "Keyword args:\n",
      "    left (bool, optional): whether to solve the system :math:`AX=B` or :math:`XA = B`. Default: `True`.\n",
      "    out (Tensor, optional): output tensor. Ignored if `None`. Default: `None`.\n",
      "\n",
      "Raises:\n",
      "    RuntimeError: if the :attr:`A` matrix is not invertible or any matrix in a batched :attr:`A`\n",
      "                  is not invertible.\n",
      "\n",
      "Examples::\n",
      "\n",
      "    >>> A = torch.randn(3, 3)\n",
      "    >>> b = torch.randn(3)\n",
      "    >>> x = torch.linalg.solve(A, b)\n",
      "    >>> torch.allclose(A @ x, b)\n",
      "    True\n",
      "    >>> A = torch.randn(2, 3, 3)\n",
      "    >>> B = torch.randn(2, 3, 4)\n",
      "    >>> X = torch.linalg.solve(A, B)\n",
      "    >>> X.shape\n",
      "    torch.Size([2, 3, 4])\n",
      "    >>> torch.allclose(A @ X, B)\n",
      "    True\n",
      "\n",
      "    >>> A = torch.randn(2, 3, 3)\n",
      "    >>> b = torch.randn(3, 1)\n",
      "    >>> x = torch.linalg.solve(A, b) # b is broadcasted to size (2, 3, 1)\n",
      "    >>> x.shape\n",
      "    torch.Size([2, 3, 1])\n",
      "    >>> torch.allclose(A @ x, b)\n",
      "    True\n",
      "    >>> b = torch.randn(3)\n",
      "    >>> x = torch.linalg.solve(A, b) # b is broadcasted to size (2, 3)\n",
      "    >>> x.shape\n",
      "    torch.Size([2, 3])\n",
      "    >>> Ax = A @ x.unsqueeze(-1)\n",
      "    >>> torch.allclose(Ax, b.unsqueeze(-1).expand_as(Ax))\n",
      "    True\n",
      "\n",
      ".. _invertible:\n",
      "    https://en.wikipedia.org/wiki/Invertible_matrix#The_invertible_matrix_theorem\n",
      "\u001b[1;31mType:\u001b[0m      builtin_function_or_method"
     ]
    }
   ],
   "source": [
    "torch.linalg.solve?\n"
   ]
  },
  {
   "cell_type": "code",
   "execution_count": null,
   "metadata": {},
   "outputs": [],
   "source": []
  }
 ],
 "metadata": {
  "kernelspec": {
   "display_name": "bandit",
   "language": "python",
   "name": "python3"
  },
  "language_info": {
   "codemirror_mode": {
    "name": "ipython",
    "version": 3
   },
   "file_extension": ".py",
   "mimetype": "text/x-python",
   "name": "python",
   "nbconvert_exporter": "python",
   "pygments_lexer": "ipython3",
   "version": "3.9.17"
  },
  "orig_nbformat": 4
 },
 "nbformat": 4,
 "nbformat_minor": 2
}
