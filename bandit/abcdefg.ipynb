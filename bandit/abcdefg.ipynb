{
 "cells": [
  {
   "cell_type": "code",
   "execution_count": 1,
   "metadata": {},
   "outputs": [
    {
     "name": "stdout",
     "output_type": "stream",
     "text": [
      "cuda:0\n"
     ]
    }
   ],
   "source": [
    "import os\n",
    "\n",
    "os.environ[\"KMP_DUPLICATE_LIB_OK\"]=\"TRUE\"\n",
    "import numpy as np\n",
    "import torch\n",
    "import math \n",
    "import copy\n",
    "import random\n",
    "import argparse\n",
    "\n",
    "\n",
    "device = torch.device(\"cuda:0\" if torch.cuda.is_available() else \"cpu\")\n",
    "print(device)"
   ]
  },
  {
   "cell_type": "code",
   "execution_count": 29,
   "metadata": {},
   "outputs": [],
   "source": [
    "# define the hyperparameters\n",
    "input_size = 8\n",
    "hidden_size = 10 \n",
    "output_size = 5\n",
    "num_layers = 5\n",
    "arm_size = 3\n",
    "beta = 0.1\n",
    "lambd = 0.001"
   ]
  },
  {
   "cell_type": "code",
   "execution_count": 129,
   "metadata": {},
   "outputs": [],
   "source": [
    "# initialize the parameters\n",
    "\n",
    "theta = np.random.randn(output_size, 1) / np.sqrt(output_size)\n",
    "theta = torch.tensor(theta, dtype = torch.float32)\n",
    "\n",
    "LAMBDA = lambd * torch.eye(output_size, dtype=torch.float32)\n",
    "bb = torch.zeros(LAMBDA.size()[0], dtype=torch.float).view(-1, 1)"
   ]
  },
  {
   "cell_type": "code",
   "execution_count": 121,
   "metadata": {},
   "outputs": [
    {
     "name": "stdout",
     "output_type": "stream",
     "text": [
      "tensor([ 8, 10, 10, 10, 10, 10,  5], dtype=torch.int32)\n"
     ]
    }
   ],
   "source": [
    "# create the model \n",
    "import modeldefine\n",
    "model = modeldefine.Model(input_size, hidden_size, output_size, num_layers).to(device)"
   ]
  },
  {
   "cell_type": "code",
   "execution_count": 142,
   "metadata": {},
   "outputs": [],
   "source": [
    "def TRANS(c, a, arm_size):\n",
    "    #### transfer an array context + action to new context with dimension 2*(__context__ + __armsize__)\n",
    "    dim = len(c)\n",
    "    action = np.zeros(arm_size)\n",
    "    action[a] = 1\n",
    "    c_final = np.append(c, action)\n",
    "    c_final = torch.from_numpy(c_final).to(device)\n",
    "    c_final = c_final.view((len(c_final), 1))\n",
    "    c_final = c_final.repeat(2, 1)\n",
    "    c_final = torch.tensor(c_final, dtype=torch.float32).view(1,-1)\n",
    "    return c_final\n",
    "\n",
    "def UCB(A, phi):\n",
    "    #### ucb term\n",
    "    phi = phi.view(-1,1)\n",
    "    try:\n",
    "        tmp, LU = torch.linalg.solve(phi,A)\n",
    "    except:\n",
    "        A = A.detach().numpy()\n",
    "        phi2 = phi.detach().numpy()\n",
    "        tmp = torch.Tensor(np.linalg.solve(A, phi2))\n",
    "\n",
    "    return torch.sqrt(torch.matmul(torch.transpose(phi,1,0), tmp))\n",
    "\n",
    "def get_action(model, context_info, random_indicator):\n",
    "    ucb = [] \n",
    "    for i in range(arm_size):\n",
    "        temp = TRANS(context_info.cpu(), i, arm_size).to(device)\n",
    "        feature = model(temp).cpu()\n",
    "\n",
    "        first_item = torch.mm(feature, theta)\n",
    "        ucb_item = beta * UCB(LAMBDA, feature)\n",
    "        ucb.append(first_item + ucb_item)\n",
    "    \n",
    "    if random_indicator == 0:\n",
    "        return ucb.index(max(ucb))\n",
    "    else:\n",
    "        return np.random.randint(0, arm_size)\n",
    "\n",
    "def update_lambda_bb(lambd, bb, context_info, action,reward):\n",
    "    temp = TRANS(context_info.cpu(), action, arm_size).to(device)\n",
    "    feature = model(temp).cpu()\n",
    "    templambda = lambd + torch.mm(feature.t(), feature)\n",
    "    tempbb = bb + reward * feature.t()\n",
    "    return templambda, tempbb\n",
    "\n",
    "def update_theta(lambd, bb):\n",
    "    return torch.linalg.solve(lambd, bb)"
   ]
  },
  {
   "cell_type": "code",
   "execution_count": 140,
   "metadata": {},
   "outputs": [],
   "source": []
  },
  {
   "cell_type": "code",
   "execution_count": 122,
   "metadata": {},
   "outputs": [],
   "source": [
    "context = torch.randn(1,5).to(device)"
   ]
  },
  {
   "cell_type": "code",
   "execution_count": null,
   "metadata": {},
   "outputs": [],
   "source": []
  }
 ],
 "metadata": {
  "kernelspec": {
   "display_name": "bandit",
   "language": "python",
   "name": "python3"
  },
  "language_info": {
   "codemirror_mode": {
    "name": "ipython",
    "version": 3
   },
   "file_extension": ".py",
   "mimetype": "text/x-python",
   "name": "python",
   "nbconvert_exporter": "python",
   "pygments_lexer": "ipython3",
   "version": "3.9.17"
  }
 },
 "nbformat": 4,
 "nbformat_minor": 2
}
