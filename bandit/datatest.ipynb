{
 "cells": [
  {
   "cell_type": "code",
   "execution_count": 1,
   "metadata": {},
   "outputs": [
    {
     "name": "stdout",
     "output_type": "stream",
     "text": [
      "cuda:0\n"
     ]
    }
   ],
   "source": [
    "import os\n",
    "\n",
    "os.environ[\"KMP_DUPLICATE_LIB_OK\"]=\"TRUE\"\n",
    "import numpy as np\n",
    "import torch\n",
    "import math \n",
    "import copy\n",
    "import random\n",
    "import argparse\n",
    "import torch.optim as optim\n",
    "\n",
    "\n",
    "\n",
    "device = torch.device(\"cuda:0\" if torch.cuda.is_available() else \"cpu\")\n",
    "print(device)"
   ]
  },
  {
   "cell_type": "code",
   "execution_count": 2,
   "metadata": {},
   "outputs": [],
   "source": [
    "def load_data(dataset_name, K):\n",
    "    if dataset_name == \"statlog\":\n",
    "        ##statlog\n",
    "        __context_size__ = 8\n",
    "        __arm_size__ = 7\n",
    "        fr = open(\"shuttle.trn\",'r+')\n",
    "        CONTEXT = []\n",
    "        REWARD = []\n",
    "        SYM = {}\n",
    "        aa = 0\n",
    "        K = 0\n",
    "        for line in fr:\n",
    "            K+=1\n",
    "            aaa = line.split(\"\\n\")\n",
    "            aaa = aaa[0].split(\" \")\n",
    "            temp = np.int64(aaa[9])-1\n",
    "            context = np.double(aaa[1:9])\n",
    "            context = context/np.linalg.norm(context)\n",
    "            ttt = context\n",
    "            CONTEXT.append(ttt)\n",
    "            reward = np.zeros(__arm_size__)\n",
    "            reward[temp] = 1\n",
    "            REWARD.append(reward)\n",
    "\n",
    "    elif dataset_name == \"magic\":\n",
    "        ####magic gamma\n",
    "\n",
    "        __context_size__ = 10\n",
    "        __arm_size__ = 2\n",
    "        fr = open(\"letter.data\", 'r+')\n",
    "\n",
    "        K = 0\n",
    "        CONTEXT = []\n",
    "        REWARD = []\n",
    "\n",
    "        fr.close()\n",
    "        fr = open(\"magic04.data\", 'r+')\n",
    "        for line in fr:\n",
    "\n",
    "            context = []\n",
    "            aaa = line.split(\",\")\n",
    "            context = np.double(aaa[0:__context_size__])\n",
    "            context = context / np.linalg.norm(context)\n",
    "            K += 1\n",
    "            CONTEXT.append(np.array(context))\n",
    "            __context_size__ = len(context)\n",
    "            reward = np.zeros(__arm_size__)\n",
    "            if aaa[10] == 'g\\n':\n",
    "                reward[0] = 1\n",
    "            else:\n",
    "                reward[1] = 1\n",
    "            REWARD.append(reward)\n",
    "\n",
    "        fr.close()\n",
    "    elif dataset_name == \"covertype\":\n",
    "        ##For covertypr\n",
    "        __context_size__ = 14\n",
    "        __arm_size__ = 7\n",
    "        fr = open(\"covtype.data\", 'r+')\n",
    "        CONTEXT = []\n",
    "        REWARD = []\n",
    "        SYM = {}\n",
    "        aa = 0\n",
    "        K = 0\n",
    "        for line in fr:\n",
    "            K += 1\n",
    "            aaa = line.split(\",\")\n",
    "            __context_size__ = len(aaa) - 1\n",
    "            temp = int(aaa[__context_size__]) - 1\n",
    "            context = np.double(aaa[0:__context_size__])\n",
    "            context = context / np.linalg.norm(context)\n",
    "            ttt = context\n",
    "            CONTEXT.append(ttt)\n",
    "            reward = np.zeros(__arm_size__)\n",
    "            reward[temp] = 1\n",
    "            REWARD.append(reward)\n",
    "    else:\n",
    "        assert('dataset not avaiable')\n",
    "\n",
    "    TEMP_CONTEXT = []\n",
    "    TEMP_REWARD = []\n",
    "    sli = np.random.permutation(K)\n",
    "    for i in range(K):\n",
    "        TEMP_CONTEXT.append(CONTEXT[sli[i]])\n",
    "        TEMP_REWARD.append(REWARD[sli[i]])\n",
    "    CONTEXT = TEMP_CONTEXT\n",
    "    REWARD = TEMP_REWARD\n",
    "\n",
    "    return __context_size__, __arm_size__, CONTEXT, REWARD, sli"
   ]
  },
  {
   "cell_type": "code",
   "execution_count": 5,
   "metadata": {},
   "outputs": [],
   "source": [
    "def TRANS(c, a, arm_size):\n",
    "    #### transfer an array context + action to new context with dimension 2*(__context__ + __armsize__)\n",
    "    dim = len(c)\n",
    "    action = np.zeros(arm_size)\n",
    "    action[a] = 1\n",
    "    c_final = np.append(c, action)\n",
    "    c_final = torch.from_numpy(c_final).to(device)\n",
    "    c_final = c_final.view((len(c_final), 1))\n",
    "    c_final = c_final.repeat(2, 1)\n",
    "    c_final = torch.tensor(c_final, dtype=torch.float32).view(1,-1)\n",
    "    return c_final\n",
    "\n",
    "def UCB(A, phi):\n",
    "    #### ucb term\n",
    "    phi = phi.view(-1,1)\n",
    "    try:\n",
    "        tmp, LU = torch.linalg.solve(phi,A)\n",
    "    except:\n",
    "        A = A.detach().numpy()\n",
    "        phi2 = phi.detach().numpy()\n",
    "        tmp = torch.Tensor(np.linalg.solve(A, phi2))\n",
    "\n",
    "    return torch.sqrt(torch.matmul(torch.transpose(phi,1,0), tmp))\n",
    "\n",
    "def get_action(model, context_info, random_indicator):\n",
    "    ucb = [] \n",
    "    bphi = []\n",
    "    for i in range(arm_size):\n",
    "        temp = TRANS(context_info, i, arm_size).to(device)\n",
    "        bphi.append(temp.cpu())\n",
    "        feature = model(temp).cpu()\n",
    "\n",
    "        first_item = torch.mm(feature, theta)\n",
    "        ucb_item = beta * UCB(LAMBDA, feature)\n",
    "        ucb.append(first_item + ucb_item)\n",
    "    \n",
    "    if random_indicator == 0:\n",
    "        return ucb.index(max(ucb)), bphi[ucb.index(max(ucb))] \n",
    "    else:\n",
    "        num =  np.random.randint(0, arm_size)\n",
    "        return num, bphi[num]\n",
    "    \n",
    "def update_lambda_bb(lambd, bb, context_info, action,reward):\n",
    "    temp = TRANS(context_info, action, arm_size).to(device)\n",
    "    feature = model(temp).cpu()\n",
    "    templambda = lambd + torch.mm(feature.t(), feature)\n",
    "    tempbb = bb + reward * feature.t()\n",
    "    return templambda, tempbb\n",
    "\n",
    "def update_theta(lambd, bb):\n",
    "    return torch.linalg.solve(lambd, bb)"
   ]
  },
  {
   "cell_type": "code",
   "execution_count": 49,
   "metadata": {},
   "outputs": [],
   "source": [
    "device = torch.device(\"cpu\")\n",
    "model = torch.load('result_folder/1thmodel.pth').to(device)\n",
    "theta = np.load('result_folder/1ththeta.npy')\n",
    "theta = torch.tensor(theta, device = device, dtype = torch.float32)\n",
    "LAMBDA = np.load('result_folder/1thlambda.npy')\n",
    "LAMBDA = torch.tensor(LAMBDA, device = device, dtype = torch.float32)\n",
    "beta = 0.1"
   ]
  },
  {
   "cell_type": "code",
   "execution_count": 50,
   "metadata": {},
   "outputs": [],
   "source": [
    "context_size, arm_size, CONTEXT_list, REWARD, sli = load_data(\"statlog\", 15000)"
   ]
  },
  {
   "cell_type": "code",
   "execution_count": 51,
   "metadata": {},
   "outputs": [
    {
     "name": "stderr",
     "output_type": "stream",
     "text": [
      "C:\\Users\\杜骏晔\\AppData\\Local\\Temp\\ipykernel_32280\\3790411606.py:10: UserWarning: To copy construct from a tensor, it is recommended to use sourceTensor.clone().detach() or sourceTensor.clone().detach().requires_grad_(True), rather than torch.tensor(sourceTensor).\n",
      "  c_final = torch.tensor(c_final, dtype=torch.float32).view(1,-1)\n"
     ]
    }
   ],
   "source": [
    "predicted_label = []\n",
    "for i in range(len(REWARD)):\n",
    "    context = CONTEXT_list[i]\n",
    "    action, c_act = get_action(model, context, 0)\n",
    "    predicted_label.append(action)"
   ]
  },
  {
   "cell_type": "code",
   "execution_count": 53,
   "metadata": {},
   "outputs": [],
   "source": [
    "# get the 1 index of each array iin REWARD\n",
    "label = [np.argmax(i,axis =0) for i in REWARD]"
   ]
  },
  {
   "cell_type": "code",
   "execution_count": 56,
   "metadata": {},
   "outputs": [],
   "source": [
    "# Calculate the accuracy\n",
    "accuracy = np.sum(np.array(predicted_label) == np.array(label))/len(label)"
   ]
  },
  {
   "cell_type": "code",
   "execution_count": 57,
   "metadata": {},
   "outputs": [
    {
     "data": {
      "text/plain": [
       "0.9811494252873563"
      ]
     },
     "execution_count": 57,
     "metadata": {},
     "output_type": "execute_result"
    }
   ],
   "source": [
    "accuracy"
   ]
  },
  {
   "cell_type": "code",
   "execution_count": null,
   "metadata": {},
   "outputs": [],
   "source": []
  }
 ],
 "metadata": {
  "kernelspec": {
   "display_name": "bandit",
   "language": "python",
   "name": "python3"
  },
  "language_info": {
   "codemirror_mode": {
    "name": "ipython",
    "version": 3
   },
   "file_extension": ".py",
   "mimetype": "text/x-python",
   "name": "python",
   "nbconvert_exporter": "python",
   "pygments_lexer": "ipython3",
   "version": "3.9.17"
  }
 },
 "nbformat": 4,
 "nbformat_minor": 2
}
