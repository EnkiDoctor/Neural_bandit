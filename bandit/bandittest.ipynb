{
 "cells": [
  {
   "cell_type": "code",
   "execution_count": 6,
   "metadata": {},
   "outputs": [],
   "source": [
    "import numpy as np\n",
    "import itertools\n",
    "import random\n",
    "import torch"
   ]
  },
  {
   "cell_type": "code",
   "execution_count": 7,
   "metadata": {},
   "outputs": [],
   "source": [
    "def inv_sherman_morrison(u,A_inv):\n",
    "    Au = np.dot(A_inv, u)\n",
    "    A_inv -= np.outer(Au, Au)/(1+np.dot(u.T, Au))\n",
    "    return A_inv"
   ]
  },
  {
   "cell_type": "code",
   "execution_count": 5,
   "metadata": {},
   "outputs": [],
   "source": [
    "class ContextualBandit():\n",
    "    def __init__(self, T, n_arms, n_features, h, noise_std = 1, seed = None):\n",
    "        self._seed(seed)\n",
    "        self.T = T \n",
    "        self.n_arms = n_arms  # number of arms\n",
    "        self.n_features = n_features # number of features for each arm\n",
    "        self.h = h  # average reward function\n",
    "        self.reset()\n",
    "    def arms(self):\n",
    "        return range(self.n_arms)\n",
    "    def reset(self):\n",
    "        # generate new features and new rewards\n",
    "        self.reset_features()\n",
    "        self.reset_rewards()\n",
    "    def reset_features(self):\n",
    "        # generate normalized random N(0,1) features \n",
    "        x = np.random.randn(self.T, self.n_arms, self.n_features)\n",
    "        x /= np.repeat(np.linalg.norm(x, axis=-1, ord=2), self.n_features).reshape(self.T, self.n_arms, self.n_features)\n",
    "        self.features = x\n",
    "    def reset_rewards(self):\n",
    "        # generate rewards for each arm in each round, plus Gaussian noise\n",
    "        self.rewards = np.array(\n",
    "            [\n",
    "                self.h(self.features[t, k]) + self.noise_std*np.random.randn()\n",
    "                for t, k in itertools.product(range(self.T), range(self.n_arms))\n",
    "            ]\n",
    "        ).reshape(self.T, self.n_arms)\n",
    "\n",
    "        # to be used only to compute regret, NOT by the algorithm itself\n",
    "        self.best_rewards_oracle = np.max(self.rewards, axis=1)\n",
    "        self.best_actions_oracle = np.argmax(self.rewards, axis=1)"
   ]
  },
  {
   "cell_type": "code",
   "execution_count": null,
   "metadata": {},
   "outputs": [],
   "source": []
  }
 ],
 "metadata": {
  "kernelspec": {
   "display_name": "bandit",
   "language": "python",
   "name": "python3"
  },
  "language_info": {
   "codemirror_mode": {
    "name": "ipython",
    "version": 3
   },
   "file_extension": ".py",
   "mimetype": "text/x-python",
   "name": "python",
   "nbconvert_exporter": "python",
   "pygments_lexer": "ipython3",
   "version": "3.9.17"
  },
  "orig_nbformat": 4
 },
 "nbformat": 4,
 "nbformat_minor": 2
}
