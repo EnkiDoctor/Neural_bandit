{
 "cells": [
  {
   "cell_type": "code",
   "execution_count": 6,
   "metadata": {},
   "outputs": [],
   "source": [
    "import model\n",
    "import torch\n",
    "import torch.nn as nn\n",
    "import numpy as np\n",
    "import itertools"
   ]
  },
  {
   "cell_type": "code",
   "execution_count": 11,
   "metadata": {},
   "outputs": [],
   "source": [
    "def inv_sherman_morrison(u,A_inv):\n",
    "    Au = np.dot(A_inv, u)\n",
    "    A_inv -= np.outer(Au, Au)/(1+np.dot(u.T, Au))\n",
    "    return A_inv\n",
    "\n",
    "class ContextualBandit():\n",
    "    def __init__(self, T, n_arms, n_features, h, noise_std = 1):\n",
    "        self.T = T \n",
    "        self.n_arms = n_arms  # number of arms\n",
    "        self.n_features = n_features # number of features for each arm\n",
    "        self.h = h  # average reward function\n",
    "        self.noise_std = noise_std\n",
    "        self.reset()\n",
    "    def arms(self):\n",
    "        return range(self.n_arms)\n",
    "    def reset(self):\n",
    "        # generate new features and new rewards\n",
    "        self.reset_features()\n",
    "        self.reset_rewards()\n",
    "    def reset_features(self):\n",
    "        # generate normalized random N(0,1) features \n",
    "        x = np.random.randn(self.T, self.n_arms, self.n_features)\n",
    "        x /= np.repeat(np.linalg.norm(x, axis=-1, ord=2), self.n_features).reshape(self.T, self.n_arms, self.n_features)\n",
    "        self.features = x\n",
    "    def reset_rewards(self):\n",
    "        # generate rewards for each arm in each round, plus Gaussian noise\n",
    "        self.rewards = np.array(\n",
    "            [\n",
    "                self.h(self.features[t, k]) + self.noise_std*np.random.randn()\n",
    "                for t, k in itertools.product(range(self.T), range(self.n_arms))\n",
    "            ]\n",
    "        ).reshape(self.T, self.n_arms)\n",
    "\n",
    "        # to be used only to compute regret, NOT by the algorithm itself\n",
    "        self.best_rewards_oracle = np.max(self.rewards, axis=1)\n",
    "        self.best_actions_oracle = np.argmax(self.rewards, axis=1)"
   ]
  },
  {
   "cell_type": "code",
   "execution_count": 12,
   "metadata": {},
   "outputs": [],
   "source": [
    "### mean reward function\n",
    "a = np.random.randn(5)\n",
    "a /= np.linalg.norm(a, ord=2)\n",
    "reward_func = lambda x: 10*np.dot(a, x)\n",
    "\n",
    "bandit = ContextualBandit(T = 100, n_arms = 5, n_features= 5, h = reward_func, noise_std = 1)\n",
    "\n",
    "model = model.Model(input_size = 5 , hidden_size = 8, output_size = 5, num_layers = 5)"
   ]
  },
  {
   "cell_type": "code",
   "execution_count": 4,
   "metadata": {},
   "outputs": [
    {
     "ename": "SyntaxError",
     "evalue": "invalid syntax (918907892.py, line 2)",
     "output_type": "error",
     "traceback": [
      "\u001b[1;36m  Cell \u001b[1;32mIn[4], line 2\u001b[1;36m\u001b[0m\n\u001b[1;33m    def __init__(self, bandit, model, regulization, )\u001b[0m\n\u001b[1;37m                                                     ^\u001b[0m\n\u001b[1;31mSyntaxError\u001b[0m\u001b[1;31m:\u001b[0m invalid syntax\n"
     ]
    }
   ],
   "source": [
    "class Neual_linUCB():\n",
    "    def __init__(self, bandit, regulization, H, alpha, lr, hidden_size, num_layers, use_cuda = True):   # H is episode length, alpha is exploration parameters\n",
    "        self.bandit = bandit\n",
    "        self.regulization = regulization\n",
    "        self.alpha = alpha\n",
    "        self.H = H\n",
    "        self.learning\n",
    "        self.lr = lr\n",
    "        self.use_cuda = use_cuda\n",
    "\n",
    "        #neural network\n",
    "        self.device = torch.device('cuda' if torch.cuda.is_available() and self.use_cuda else 'cpu')\n",
    "        print(self.device)\n",
    "        self.model = model.Model(input_size = self.bandit.n_features, hidden_size = hidden_size, output_size = self.bandit.n_features, num_layers = num_layers).to(self.device)\n",
    "        self.optimizer = torch.optim.Adam(self.model.parameters(),lr = self.lr)\n",
    "        \n",
    "        super.__init__(bandit, regulization, H, alpha, lr, hidden_size, num_layers, use_cuda = True)\n",
    "    \n",
    "    \n",
    "\n",
    "    "
   ]
  },
  {
   "cell_type": "code",
   "execution_count": null,
   "metadata": {},
   "outputs": [],
   "source": [
    "bandit."
   ]
  }
 ],
 "metadata": {
  "kernelspec": {
   "display_name": "bandit",
   "language": "python",
   "name": "python3"
  },
  "language_info": {
   "codemirror_mode": {
    "name": "ipython",
    "version": 3
   },
   "file_extension": ".py",
   "mimetype": "text/x-python",
   "name": "python",
   "nbconvert_exporter": "python",
   "pygments_lexer": "ipython3",
   "version": "3.9.17"
  },
  "orig_nbformat": 4
 },
 "nbformat": 4,
 "nbformat_minor": 2
}
